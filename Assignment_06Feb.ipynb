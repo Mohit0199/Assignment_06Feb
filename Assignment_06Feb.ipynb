{
 "cells": [
  {
   "cell_type": "code",
   "execution_count": 14,
   "id": "5911de42-7ad7-407c-9cb2-0a1a8aed3b4e",
   "metadata": {},
   "outputs": [
    {
     "name": "stdout",
     "output_type": "stream",
     "text": [
      "Product of all numbers after flattening the list1 is 4134711838987085478833841242112000\n"
     ]
    }
   ],
   "source": [
    "# Q1. Create a function which will take a list as an argument and return the product of all the numbers \n",
    "# after creating a flat list.\n",
    "\n",
    "# Use the below-given list as an argument for your function.\n",
    "# list1 = [1,2,3,4, [44,55,66, True], False, (34,56,78,89,34), {1,2,3,3,2,1}, {1:34, \"key2\": [55, 67, 78, 89], 4: (45, \n",
    "# 22, 61, 34)}, [56, 'data science'], 'Machine Learning']\n",
    "\n",
    "# Note: you must extract numeric keys and values of the dictionary also.\n",
    "\n",
    "\n",
    "def num_product(l):\n",
    "    l1 = []\n",
    "    for i in l:\n",
    "        if type(i)==int or type(i)==float:\n",
    "            l1.append(i)\n",
    "            \n",
    "        else:\n",
    "            if type(i)==list or type(i)==tuple or type(i)==set:\n",
    "                for j in i:\n",
    "                    if type(j)==int or type(j)==float:\n",
    "                        l1.append(j)\n",
    "\n",
    "            elif type(i)==dict:\n",
    "                \n",
    "                for key in i.keys():\n",
    "                    if type(key)==int or type(key)==float:\n",
    "                        l1.append(key)\n",
    "                \n",
    "                for value in i.values():\n",
    "                    if type(value)==int or type(value)==float:\n",
    "                        l1.append(value)\n",
    "\n",
    "                    elif type(value)==list or type(value)==tuple or type(value)==set:\n",
    "                        for h in value:\n",
    "                            if type(h)==int or type(h)==float:\n",
    "                                l1.append(h)\n",
    "                            \n",
    "    from functools import reduce\n",
    "    result = reduce(lambda x,y : x*y, l1)\n",
    "    return result\n",
    "\n",
    "list1 = [1,2,3,4, [44,55,66, True], False, (34,56,78,89,34), {1,2,3,3,2,1}, {1:34, \"key2\": [55, 67, 78, 89], 4: (45, 22, 61, 34)}, [56, 'data science'], 'Machine Learning']\n",
    "\n",
    "result = num_product(list1)\n",
    "print(f\"Product of all numbers after flattening the list1 is {result}\")"
   ]
  },
  {
   "cell_type": "code",
   "execution_count": 24,
   "id": "b4e86318-0bbf-49de-bb71-f1a300992b33",
   "metadata": {},
   "outputs": [
    {
     "name": "stdin",
     "output_type": "stream",
     "text": [
      "Enter your message to encrypt:  I want to become a Data Scientist.\n"
     ]
    },
    {
     "name": "stdout",
     "output_type": "stream",
     "text": [
      "Encrypted message is: r dzmg gl yvxlnv z wzgz hxrvmgrhg.\n"
     ]
    }
   ],
   "source": [
    "# Q2. Write a python program for encrypting a message sent to you by your friend. The logic of encryption \n",
    "# should be such that, for a the output should be z. For b, the output should be y. For c, the output should \n",
    "# be x respectively. Also, the whitespace should be replaced with a dollar sign. Keep the punctuation \n",
    "# marks unchanged.\n",
    "\n",
    "# Input Sentence: I want to become a Data Scientist.\n",
    "\n",
    "# Encrypt the above input sentence using the program you just created.\n",
    "\n",
    "# Note: Convert the given input sentence into lowercase before encrypting. The final output should be \n",
    "# lowercase.\n",
    "\n",
    "\n",
    "def encrypt():\n",
    "    msg = input(\"Enter your message to encrypt: \").lower()\n",
    "    \n",
    "    l1 = ['a','b','c','d','e','f','g','h','i','j','k','l','m','n','o','p','q','r','s','t','u','v','w','x','y','z']\n",
    "    encrypted_msg = ''\n",
    "    for char in msg:\n",
    "        if char.isalpha():\n",
    "            if char == ' ':\n",
    "                encrypted_msg += '$'\n",
    "            else:\n",
    "                encrypted_msg += l1[25 - l1.index(char)]\n",
    "        else:\n",
    "            encrypted_msg += char\n",
    "    return f\"Encrypted message is: {encrypted_msg}\"\n",
    "\n",
    "print(encrypt())"
   ]
  },
  {
   "cell_type": "code",
   "execution_count": null,
   "id": "2bb8469e-1d6c-45e0-ac82-a5fa6d2bbd2e",
   "metadata": {},
   "outputs": [],
   "source": []
  },
  {
   "cell_type": "code",
   "execution_count": null,
   "id": "3e5826c9-67b7-4133-8c76-26a3d535fed2",
   "metadata": {},
   "outputs": [],
   "source": []
  }
 ],
 "metadata": {
  "kernelspec": {
   "display_name": "Python 3 (ipykernel)",
   "language": "python",
   "name": "python3"
  },
  "language_info": {
   "codemirror_mode": {
    "name": "ipython",
    "version": 3
   },
   "file_extension": ".py",
   "mimetype": "text/x-python",
   "name": "python",
   "nbconvert_exporter": "python",
   "pygments_lexer": "ipython3",
   "version": "3.10.8"
  }
 },
 "nbformat": 4,
 "nbformat_minor": 5
}
